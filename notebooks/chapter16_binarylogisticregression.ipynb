{
 "cells": [
  {
   "attachments": {},
   "cell_type": "markdown",
   "metadata": {},
   "source": [
    "# Chapter 11: Testing with Out-of-Sample Data"
   ]
  },
  {
   "cell_type": "code",
   "execution_count": 1,
   "metadata": {},
   "outputs": [],
   "source": [
    "import sys\n",
    "import os\n",
    "sys.path.append('/home/yutanagano/Projects/nnfs')\n",
    "os.chdir('/home/yutanagano/Projects/nnfs')"
   ]
  },
  {
   "cell_type": "code",
   "execution_count": 2,
   "metadata": {},
   "outputs": [],
   "source": [
    "import numpy as np\n",
    "import nnfs\n",
    "from nnfs.datasets import spiral_data\n",
    "\n",
    "nnfs.init()\n",
    "\n",
    "import nnn"
   ]
  },
  {
   "attachments": {},
   "cell_type": "markdown",
   "metadata": {},
   "source": [
    "## Setup"
   ]
  },
  {
   "cell_type": "code",
   "execution_count": 3,
   "metadata": {},
   "outputs": [],
   "source": [
    "# Create dataset\n",
    "X, y = spiral_data(samples=100, classes=2)\n",
    "y = y.reshape(-1, 1)\n",
    "\n",
    "# Create the necessary layers\n",
    "dense1 = nnn.layer.Dense(n_inputs=2,n_neurons=64,l2w=5e-4,l2b=5e-4)\n",
    "activation1 = nnn.activation.Relu()\n",
    "dense2 = nnn.layer.Dense(n_inputs=64,n_neurons=1)\n",
    "activation2 = nnn.activation.Sigmoid()\n",
    "\n",
    "loss_fn = nnn.loss.BinaryCrossentropy()\n",
    "\n",
    "# Create the optimiser\n",
    "optimiser = nnn.optimiser.Adam(decay=5e-7)"
   ]
  },
  {
   "attachments": {},
   "cell_type": "markdown",
   "metadata": {},
   "source": [
    "## Training"
   ]
  },
  {
   "cell_type": "code",
   "execution_count": 4,
   "metadata": {},
   "outputs": [
    {
     "name": "stdout",
     "output_type": "stream",
     "text": [
      "epoch: 0, acc: 0.500, loss: 0.693, (data_loss: 0.6931493878364563, reg_loss: 5.625688005238772e-06), lr: 0.001\n",
      "epoch: 100, acc: 0.620, loss: 0.626, (data_loss: 0.6185082197189331, reg_loss: 0.007556769467890263), lr: 0.0009999505024501287\n",
      "epoch: 200, acc: 0.750, loss: 0.558, (data_loss: 0.5476176738739014, reg_loss: 0.010370809972286225), lr: 0.0009999005098992651\n",
      "epoch: 300, acc: 0.785, loss: 0.500, (data_loss: 0.4877138137817383, reg_loss: 0.012202283293008804), lr: 0.000999850522346909\n",
      "epoch: 400, acc: 0.815, loss: 0.459, (data_loss: 0.44591981172561646, reg_loss: 0.013429276823997497), lr: 0.0009998005397923115\n",
      "epoch: 500, acc: 0.825, loss: 0.434, (data_loss: 0.41967594623565674, reg_loss: 0.014222035169601441), lr: 0.0009997505622347225\n",
      "epoch: 600, acc: 0.815, loss: 0.418, (data_loss: 0.4029194116592407, reg_loss: 0.01475272810459137), lr: 0.0009997005896733929\n",
      "epoch: 700, acc: 0.840, loss: 0.405, (data_loss: 0.3897309899330139, reg_loss: 0.01506212306022644), lr: 0.0009996506221075735\n",
      "epoch: 800, acc: 0.855, loss: 0.389, (data_loss: 0.37270867824554443, reg_loss: 0.01593775701522827), lr: 0.000999600659536515\n",
      "epoch: 900, acc: 0.845, loss: 0.382, (data_loss: 0.3655037581920624, reg_loss: 0.016466259717941283), lr: 0.0009995507019594694\n",
      "epoch: 1000, acc: 0.855, loss: 0.378, (data_loss: 0.3610914349555969, reg_loss: 0.01671028172969818), lr: 0.000999500749375687\n",
      "epoch: 1100, acc: 0.855, loss: 0.375, (data_loss: 0.35823294520378113, reg_loss: 0.01679405951499939), lr: 0.0009994508017844195\n",
      "epoch: 1200, acc: 0.850, loss: 0.373, (data_loss: 0.35622933506965637, reg_loss: 0.016646810293197634), lr: 0.0009994008591849186\n",
      "epoch: 1300, acc: 0.855, loss: 0.371, (data_loss: 0.35416412353515625, reg_loss: 0.016531726360321044), lr: 0.0009993509215764362\n",
      "epoch: 1400, acc: 0.850, loss: 0.362, (data_loss: 0.34448447823524475, reg_loss: 0.017397074699401858), lr: 0.0009993009889582235\n",
      "epoch: 1500, acc: 0.860, loss: 0.355, (data_loss: 0.3365943133831024, reg_loss: 0.01810513925552368), lr: 0.0009992510613295335\n",
      "epoch: 1600, acc: 0.855, loss: 0.351, (data_loss: 0.33235108852386475, reg_loss: 0.018622339129447937), lr: 0.0009992011386896176\n",
      "epoch: 1700, acc: 0.860, loss: 0.349, (data_loss: 0.3298819661140442, reg_loss: 0.018787821531295778), lr: 0.0009991512210377285\n",
      "epoch: 1800, acc: 0.850, loss: 0.344, (data_loss: 0.325479120016098, reg_loss: 0.01896683144569397), lr: 0.0009991013083731183\n",
      "epoch: 1900, acc: 0.845, loss: 0.343, (data_loss: 0.32392024993896484, reg_loss: 0.01892864227294922), lr: 0.0009990514006950402\n",
      "epoch: 2000, acc: 0.855, loss: 0.341, (data_loss: 0.3222180902957916, reg_loss: 0.018733780145645144), lr: 0.0009990014980027463\n",
      "epoch: 2100, acc: 0.860, loss: 0.340, (data_loss: 0.32131779193878174, reg_loss: 0.018540560722351072), lr: 0.0009989516002954898\n",
      "epoch: 2200, acc: 0.850, loss: 0.339, (data_loss: 0.32057464122772217, reg_loss: 0.018312092304229737), lr: 0.000998901707572524\n",
      "epoch: 2300, acc: 0.860, loss: 0.337, (data_loss: 0.31937336921691895, reg_loss: 0.018055981278419495), lr: 0.0009988518198331018\n",
      "epoch: 2400, acc: 0.860, loss: 0.338, (data_loss: 0.3197445571422577, reg_loss: 0.017799749612808228), lr: 0.0009988019370764769\n",
      "epoch: 2500, acc: 0.855, loss: 0.335, (data_loss: 0.3177405893802643, reg_loss: 0.017578309774398802), lr: 0.0009987520593019025\n",
      "epoch: 2600, acc: 0.865, loss: 0.334, (data_loss: 0.3169679641723633, reg_loss: 0.017377724409103394), lr: 0.000998702186508632\n",
      "epoch: 2700, acc: 0.865, loss: 0.333, (data_loss: 0.31623244285583496, reg_loss: 0.017192633032798766), lr: 0.00099865231869592\n",
      "epoch: 2800, acc: 0.860, loss: 0.333, (data_loss: 0.3159753084182739, reg_loss: 0.016991019487380982), lr: 0.0009986024558630198\n",
      "epoch: 2900, acc: 0.865, loss: 0.332, (data_loss: 0.3155827820301056, reg_loss: 0.01684069573879242), lr: 0.0009985525980091856\n",
      "epoch: 3000, acc: 0.865, loss: 0.331, (data_loss: 0.3145192861557007, reg_loss: 0.0167141934633255), lr: 0.000998502745133672\n",
      "epoch: 3100, acc: 0.865, loss: 0.330, (data_loss: 0.3137178421020508, reg_loss: 0.01664322233200073), lr: 0.0009984528972357331\n",
      "epoch: 3200, acc: 0.870, loss: 0.329, (data_loss: 0.31258538365364075, reg_loss: 0.016639754056930543), lr: 0.0009984030543146237\n",
      "epoch: 3300, acc: 0.850, loss: 0.328, (data_loss: 0.3110790252685547, reg_loss: 0.01661851167678833), lr: 0.0009983532163695982\n",
      "epoch: 3400, acc: 0.865, loss: 0.327, (data_loss: 0.31040406227111816, reg_loss: 0.016610601425170898), lr: 0.000998303383399912\n",
      "epoch: 3500, acc: 0.850, loss: 0.327, (data_loss: 0.3101574182510376, reg_loss: 0.016603578925132752), lr: 0.0009982535554048193\n",
      "epoch: 3600, acc: 0.855, loss: 0.325, (data_loss: 0.30832982063293457, reg_loss: 0.016579805850982666), lr: 0.000998203732383576\n",
      "epoch: 3700, acc: 0.855, loss: 0.324, (data_loss: 0.30748987197875977, reg_loss: 0.016555052757263183), lr: 0.0009981539143354365\n",
      "epoch: 3800, acc: 0.855, loss: 0.323, (data_loss: 0.3066164255142212, reg_loss: 0.016493924140930177), lr: 0.0009981041012596574\n",
      "epoch: 3900, acc: 0.845, loss: 0.322, (data_loss: 0.30596697330474854, reg_loss: 0.016430692672729494), lr: 0.0009980542931554933\n",
      "epoch: 4000, acc: 0.860, loss: 0.322, (data_loss: 0.3057625889778137, reg_loss: 0.016364158391952516), lr: 0.0009980044900222008\n",
      "epoch: 4100, acc: 0.855, loss: 0.321, (data_loss: 0.30493026971817017, reg_loss: 0.016282610535621644), lr: 0.0009979546918590348\n",
      "epoch: 4200, acc: 0.855, loss: 0.321, (data_loss: 0.30476313829421997, reg_loss: 0.01617151427268982), lr: 0.0009979048986652524\n",
      "epoch: 4300, acc: 0.855, loss: 0.320, (data_loss: 0.30423009395599365, reg_loss: 0.0160625741481781), lr: 0.000997855110440109\n",
      "epoch: 4400, acc: 0.845, loss: 0.321, (data_loss: 0.30518433451652527, reg_loss: 0.015983386754989625), lr: 0.0009978053271828614\n",
      "epoch: 4500, acc: 0.845, loss: 0.320, (data_loss: 0.30419883131980896, reg_loss: 0.015836605429649354), lr: 0.0009977555488927658\n",
      "epoch: 4600, acc: 0.855, loss: 0.319, (data_loss: 0.3032054007053375, reg_loss: 0.015736870527267455), lr: 0.000997705775569079\n",
      "epoch: 4700, acc: 0.845, loss: 0.319, (data_loss: 0.3037426769733429, reg_loss: 0.01565043020248413), lr: 0.0009976560072110577\n",
      "epoch: 4800, acc: 0.860, loss: 0.318, (data_loss: 0.30271247029304504, reg_loss: 0.015543654561042786), lr: 0.0009976062438179587\n",
      "epoch: 4900, acc: 0.860, loss: 0.318, (data_loss: 0.30254337191581726, reg_loss: 0.015426478862762452), lr: 0.0009975564853890394\n",
      "epoch: 5000, acc: 0.860, loss: 0.318, (data_loss: 0.30223971605300903, reg_loss: 0.015329060792922974), lr: 0.000997506731923557\n",
      "epoch: 5100, acc: 0.860, loss: 0.317, (data_loss: 0.30205804109573364, reg_loss: 0.015257344484329223), lr: 0.0009974569834207687\n",
      "epoch: 5200, acc: 0.845, loss: 0.317, (data_loss: 0.3020215332508087, reg_loss: 0.015144590973854065), lr: 0.0009974072398799322\n",
      "epoch: 5300, acc: 0.855, loss: 0.316, (data_loss: 0.3013973534107208, reg_loss: 0.015062429428100587), lr: 0.0009973575013003048\n",
      "epoch: 5400, acc: 0.860, loss: 0.317, (data_loss: 0.3019877076148987, reg_loss: 0.01495693588256836), lr: 0.0009973077676811448\n",
      "epoch: 5500, acc: 0.860, loss: 0.316, (data_loss: 0.3007892966270447, reg_loss: 0.014873135328292847), lr: 0.00099725803902171\n",
      "epoch: 5600, acc: 0.860, loss: 0.315, (data_loss: 0.3004394769668579, reg_loss: 0.014791773557662964), lr: 0.0009972083153212581\n",
      "epoch: 5700, acc: 0.855, loss: 0.315, (data_loss: 0.3004245460033417, reg_loss: 0.014686945915222169), lr: 0.000997158596579048\n",
      "epoch: 5800, acc: 0.855, loss: 0.316, (data_loss: 0.3016403317451477, reg_loss: 0.014590853452682495), lr: 0.0009971088827943377\n",
      "epoch: 5900, acc: 0.845, loss: 0.316, (data_loss: 0.30166321992874146, reg_loss: 0.014518455147743225), lr: 0.0009970591739663862\n",
      "epoch: 6000, acc: 0.855, loss: 0.315, (data_loss: 0.3001354932785034, reg_loss: 0.01442252779006958), lr: 0.0009970094700944517\n",
      "epoch: 6100, acc: 0.845, loss: 0.315, (data_loss: 0.3004174530506134, reg_loss: 0.014348507165908813), lr: 0.0009969597711777935\n",
      "epoch: 6200, acc: 0.845, loss: 0.315, (data_loss: 0.3002457022666931, reg_loss: 0.014270471811294556), lr: 0.00099691007721567\n",
      "epoch: 6300, acc: 0.845, loss: 0.314, (data_loss: 0.29959967732429504, reg_loss: 0.014179742336273194), lr: 0.000996860388207341\n",
      "epoch: 6400, acc: 0.845, loss: 0.314, (data_loss: 0.2996782958507538, reg_loss: 0.014089741230010987), lr: 0.0009968107041520655\n",
      "epoch: 6500, acc: 0.860, loss: 0.313, (data_loss: 0.2987394630908966, reg_loss: 0.014008945941925048), lr: 0.000996761025049103\n",
      "epoch: 6600, acc: 0.855, loss: 0.313, (data_loss: 0.2986839711666107, reg_loss: 0.013927435398101807), lr: 0.000996711350897713\n",
      "epoch: 6700, acc: 0.845, loss: 0.314, (data_loss: 0.2998507022857666, reg_loss: 0.013832723379135131), lr: 0.0009966616816971556\n",
      "epoch: 6800, acc: 0.855, loss: 0.313, (data_loss: 0.2992497682571411, reg_loss: 0.01375702702999115), lr: 0.00099661201744669\n",
      "epoch: 6900, acc: 0.850, loss: 0.312, (data_loss: 0.29873770475387573, reg_loss: 0.013687509894371033), lr: 0.0009965623581455767\n",
      "epoch: 7000, acc: 0.860, loss: 0.312, (data_loss: 0.2984340488910675, reg_loss: 0.013601049900054932), lr: 0.000996512703793076\n",
      "epoch: 7100, acc: 0.860, loss: 0.312, (data_loss: 0.2984856963157654, reg_loss: 0.013522213220596314), lr: 0.0009964630543884481\n",
      "epoch: 7200, acc: 0.855, loss: 0.311, (data_loss: 0.2978721559047699, reg_loss: 0.013444702982902526), lr: 0.0009964134099309536\n",
      "epoch: 7300, acc: 0.860, loss: 0.312, (data_loss: 0.2986401617527008, reg_loss: 0.013370264410972596), lr: 0.0009963637704198528\n",
      "epoch: 7400, acc: 0.860, loss: 0.311, (data_loss: 0.29802200198173523, reg_loss: 0.013286345303058625), lr: 0.0009963141358544066\n",
      "epoch: 7500, acc: 0.860, loss: 0.311, (data_loss: 0.2980608642101288, reg_loss: 0.013220082998275757), lr: 0.000996264506233876\n",
      "epoch: 7600, acc: 0.850, loss: 0.311, (data_loss: 0.2978878319263458, reg_loss: 0.013148244023323059), lr: 0.0009962148815575223\n",
      "epoch: 7700, acc: 0.860, loss: 0.311, (data_loss: 0.29743388295173645, reg_loss: 0.01307295596599579), lr: 0.000996165261824606\n",
      "epoch: 7800, acc: 0.845, loss: 0.311, (data_loss: 0.2976815402507782, reg_loss: 0.013017648935317993), lr: 0.0009961156470343895\n",
      "epoch: 7900, acc: 0.860, loss: 0.311, (data_loss: 0.2974964678287506, reg_loss: 0.013066643476486207), lr: 0.0009960660371861334\n",
      "epoch: 8000, acc: 0.860, loss: 0.310, (data_loss: 0.29696881771087646, reg_loss: 0.013161677956581115), lr: 0.0009960164322790998\n",
      "epoch: 8100, acc: 0.850, loss: 0.307, (data_loss: 0.293946236371994, reg_loss: 0.013288771092891694), lr: 0.0009959668323125503\n",
      "epoch: 8200, acc: 0.855, loss: 0.285, (data_loss: 0.27156662940979004, reg_loss: 0.013854307174682619), lr: 0.000995917237285747\n",
      "epoch: 8300, acc: 0.875, loss: 0.267, (data_loss: 0.251619428396225, reg_loss: 0.015306452512741089), lr: 0.000995867647197952\n",
      "epoch: 8400, acc: 0.895, loss: 0.254, (data_loss: 0.23727825284004211, reg_loss: 0.016821964740753172), lr: 0.0009958180620484277\n",
      "epoch: 8500, acc: 0.885, loss: 0.247, (data_loss: 0.22946622967720032, reg_loss: 0.018020756244659424), lr: 0.0009957684818364362\n",
      "epoch: 8600, acc: 0.905, loss: 0.243, (data_loss: 0.22439971566200256, reg_loss: 0.019051081895828246), lr: 0.0009957189065612402\n",
      "epoch: 8700, acc: 0.910, loss: 0.239, (data_loss: 0.21902266144752502, reg_loss: 0.019964478254318237), lr: 0.000995669336222102\n",
      "epoch: 8800, acc: 0.920, loss: 0.236, (data_loss: 0.21479369699954987, reg_loss: 0.020716010808944703), lr: 0.000995619770818285\n",
      "epoch: 8900, acc: 0.925, loss: 0.232, (data_loss: 0.21102374792099, reg_loss: 0.02143909382820129), lr: 0.0009955702103490519\n",
      "epoch: 9000, acc: 0.925, loss: 0.230, (data_loss: 0.20758643746376038, reg_loss: 0.02202911043167114), lr: 0.000995520654813666\n",
      "epoch: 9100, acc: 0.915, loss: 0.231, (data_loss: 0.20817609131336212, reg_loss: 0.022569428324699402), lr: 0.0009954711042113903\n",
      "epoch: 9200, acc: 0.930, loss: 0.226, (data_loss: 0.20267526805400848, reg_loss: 0.023031667709350587), lr: 0.0009954215585414883\n",
      "epoch: 9300, acc: 0.925, loss: 0.224, (data_loss: 0.20006565749645233, reg_loss: 0.023484124422073364), lr: 0.000995372017803224\n",
      "epoch: 9400, acc: 0.930, loss: 0.222, (data_loss: 0.19810619950294495, reg_loss: 0.023902979254722595), lr: 0.0009953224819958604\n",
      "epoch: 9500, acc: 0.920, loss: 0.222, (data_loss: 0.19729919731616974, reg_loss: 0.024282593965530393), lr: 0.000995272951118662\n",
      "epoch: 9600, acc: 0.930, loss: 0.219, (data_loss: 0.1946129947900772, reg_loss: 0.024627947092056273), lr: 0.0009952234251708924\n",
      "epoch: 9700, acc: 0.925, loss: 0.218, (data_loss: 0.19304901361465454, reg_loss: 0.0249068820476532), lr: 0.000995173904151816\n",
      "epoch: 9800, acc: 0.940, loss: 0.210, (data_loss: 0.18509669601917267, reg_loss: 0.025300714731216433), lr: 0.0009951243880606966\n",
      "epoch: 9900, acc: 0.945, loss: 0.206, (data_loss: 0.18058277666568756, reg_loss: 0.02573398268222809), lr: 0.0009950748768967994\n",
      "epoch: 10000, acc: 0.945, loss: 0.204, (data_loss: 0.17812733352184296, reg_loss: 0.026189156293869018), lr: 0.0009950253706593885\n",
      "epoch: 10100, acc: 0.940, loss: 0.203, (data_loss: 0.17608028650283813, reg_loss: 0.026647690296173095), lr: 0.0009949758693477287\n",
      "epoch: 10200, acc: 0.945, loss: 0.201, (data_loss: 0.17423000931739807, reg_loss: 0.02709274888038635), lr: 0.000994926372961085\n",
      "epoch: 10300, acc: 0.940, loss: 0.203, (data_loss: 0.17509813606739044, reg_loss: 0.027540711641311645), lr: 0.0009948768814987225\n",
      "epoch: 10400, acc: 0.940, loss: 0.200, (data_loss: 0.1724879890680313, reg_loss: 0.027942785739898682), lr: 0.000994827394959906\n",
      "epoch: 10500, acc: 0.950, loss: 0.198, (data_loss: 0.1697549819946289, reg_loss: 0.02832686424255371), lr: 0.0009947779133439012\n",
      "epoch: 10600, acc: 0.945, loss: 0.197, (data_loss: 0.16833679378032684, reg_loss: 0.028662199616432193), lr: 0.0009947284366499734\n",
      "epoch: 10700, acc: 0.945, loss: 0.196, (data_loss: 0.16678978502750397, reg_loss: 0.028996093273162844), lr: 0.0009946789648773884\n",
      "epoch: 10800, acc: 0.940, loss: 0.195, (data_loss: 0.16605018079280853, reg_loss: 0.029272785663604736), lr: 0.0009946294980254118\n",
      "epoch: 10900, acc: 0.945, loss: 0.195, (data_loss: 0.16538147628307343, reg_loss: 0.0295068199634552), lr: 0.0009945800360933094\n",
      "epoch: 11000, acc: 0.950, loss: 0.193, (data_loss: 0.16340966522693634, reg_loss: 0.029773519039154053), lr: 0.0009945305790803477\n",
      "epoch: 11100, acc: 0.950, loss: 0.192, (data_loss: 0.16182373464107513, reg_loss: 0.030198081970214844), lr: 0.0009944811269857923\n",
      "epoch: 11200, acc: 0.945, loss: 0.192, (data_loss: 0.16119275987148285, reg_loss: 0.03064894938468933), lr: 0.00099443167980891\n",
      "epoch: 11300, acc: 0.950, loss: 0.194, (data_loss: 0.16280274093151093, reg_loss: 0.031038649559020994), lr: 0.000994382237548967\n",
      "epoch: 11400, acc: 0.945, loss: 0.189, (data_loss: 0.15803216397762299, reg_loss: 0.03140270566940308), lr: 0.0009943328002052303\n",
      "epoch: 11500, acc: 0.945, loss: 0.189, (data_loss: 0.15751656889915466, reg_loss: 0.0316431303024292), lr: 0.0009942833677769663\n",
      "epoch: 11600, acc: 0.935, loss: 0.189, (data_loss: 0.15733733773231506, reg_loss: 0.03192855429649353), lr: 0.0009942339402634424\n",
      "epoch: 11700, acc: 0.950, loss: 0.187, (data_loss: 0.15523795783519745, reg_loss: 0.03215959072113037), lr: 0.000994184517663925\n",
      "epoch: 11800, acc: 0.955, loss: 0.187, (data_loss: 0.15448938310146332, reg_loss: 0.03231109309196473), lr: 0.0009941350999776817\n",
      "epoch: 11900, acc: 0.955, loss: 0.186, (data_loss: 0.15358303487300873, reg_loss: 0.03247713327407837), lr: 0.00099408568720398\n",
      "epoch: 12000, acc: 0.950, loss: 0.185, (data_loss: 0.15280532836914062, reg_loss: 0.032583933115005494), lr: 0.0009940362793420872\n",
      "epoch: 12100, acc: 0.960, loss: 0.185, (data_loss: 0.1525122970342636, reg_loss: 0.032677937984466554), lr: 0.0009939868763912708\n",
      "epoch: 12200, acc: 0.950, loss: 0.184, (data_loss: 0.15168708562850952, reg_loss: 0.03276744651794434), lr: 0.0009939374783507994\n",
      "epoch: 12300, acc: 0.950, loss: 0.184, (data_loss: 0.15120261907577515, reg_loss: 0.03283913397789001), lr: 0.0009938880852199401\n",
      "epoch: 12400, acc: 0.935, loss: 0.186, (data_loss: 0.15307196974754333, reg_loss: 0.03295040225982666), lr: 0.0009938386969979612\n",
      "epoch: 12500, acc: 0.955, loss: 0.184, (data_loss: 0.1507990062236786, reg_loss: 0.033076794624328616), lr: 0.000993789313684131\n",
      "epoch: 12600, acc: 0.950, loss: 0.182, (data_loss: 0.14842583239078522, reg_loss: 0.03318030643463135), lr: 0.0009937399352777181\n",
      "epoch: 12700, acc: 0.955, loss: 0.183, (data_loss: 0.1494327038526535, reg_loss: 0.033315089464187625), lr: 0.0009936905617779906\n",
      "epoch: 12800, acc: 0.950, loss: 0.180, (data_loss: 0.14676013588905334, reg_loss: 0.03340231347084045), lr: 0.0009936411931842177\n",
      "epoch: 12900, acc: 0.950, loss: 0.179, (data_loss: 0.1458832174539566, reg_loss: 0.03348204231262207), lr: 0.0009935918294956677\n",
      "epoch: 13000, acc: 0.955, loss: 0.179, (data_loss: 0.1455988883972168, reg_loss: 0.03351958680152893), lr: 0.00099354247071161\n",
      "epoch: 13100, acc: 0.945, loss: 0.179, (data_loss: 0.14580722153186798, reg_loss: 0.033579220771789556), lr: 0.0009934931168313133\n",
      "epoch: 13200, acc: 0.950, loss: 0.178, (data_loss: 0.14478404819965363, reg_loss: 0.03363710737228394), lr: 0.0009934437678540472\n",
      "epoch: 13300, acc: 0.955, loss: 0.177, (data_loss: 0.14306707680225372, reg_loss: 0.03366081666946411), lr: 0.0009933944237790811\n",
      "epoch: 13400, acc: 0.950, loss: 0.176, (data_loss: 0.14264845848083496, reg_loss: 0.03367795586585999), lr: 0.000993345084605684\n",
      "epoch: 13500, acc: 0.955, loss: 0.176, (data_loss: 0.14199815690517426, reg_loss: 0.03367803382873535), lr: 0.0009932957503331265\n",
      "epoch: 13600, acc: 0.950, loss: 0.175, (data_loss: 0.14156395196914673, reg_loss: 0.03369190001487732), lr: 0.000993246420960678\n",
      "epoch: 13700, acc: 0.945, loss: 0.176, (data_loss: 0.1425970494747162, reg_loss: 0.0337039806842804), lr: 0.0009931970964876082\n",
      "epoch: 13800, acc: 0.955, loss: 0.175, (data_loss: 0.14114856719970703, reg_loss: 0.033704735279083256), lr: 0.0009931477769131874\n",
      "epoch: 13900, acc: 0.955, loss: 0.174, (data_loss: 0.14023350179195404, reg_loss: 0.03369630002975464), lr: 0.0009930984622366862\n",
      "epoch: 14000, acc: 0.950, loss: 0.174, (data_loss: 0.1403491050004959, reg_loss: 0.03369424867630005), lr: 0.0009930491524573746\n",
      "epoch: 14100, acc: 0.950, loss: 0.174, (data_loss: 0.14021271467208862, reg_loss: 0.03365645861625671), lr: 0.0009929998475745234\n",
      "epoch: 14200, acc: 0.960, loss: 0.173, (data_loss: 0.1397079974412918, reg_loss: 0.03364161038398743), lr: 0.0009929505475874032\n",
      "epoch: 14300, acc: 0.950, loss: 0.173, (data_loss: 0.13962134718894958, reg_loss: 0.033624957084655765), lr: 0.0009929012524952851\n",
      "epoch: 14400, acc: 0.950, loss: 0.172, (data_loss: 0.13835711777210236, reg_loss: 0.033593824386596687), lr: 0.0009928519622974395\n",
      "epoch: 14500, acc: 0.955, loss: 0.172, (data_loss: 0.13814279437065125, reg_loss: 0.03353888940811157), lr: 0.0009928026769931383\n",
      "epoch: 14600, acc: 0.945, loss: 0.173, (data_loss: 0.13907788693904877, reg_loss: 0.03366350293159485), lr: 0.0009927533965816521\n",
      "epoch: 14700, acc: 0.955, loss: 0.169, (data_loss: 0.1354658454656601, reg_loss: 0.03372924661636353), lr: 0.000992704121062253\n",
      "epoch: 14800, acc: 0.950, loss: 0.170, (data_loss: 0.13624201714992523, reg_loss: 0.033748892307281494), lr: 0.0009926548504342121\n",
      "epoch: 14900, acc: 0.955, loss: 0.168, (data_loss: 0.13445450365543365, reg_loss: 0.033795085191726686), lr: 0.000992605584696801\n",
      "epoch: 15000, acc: 0.960, loss: 0.169, (data_loss: 0.13487978279590607, reg_loss: 0.033806958675384524), lr: 0.0009925563238492923\n"
     ]
    }
   ],
   "source": [
    "# Training loop\n",
    "for epoch in range(15001):\n",
    "    # Forward pass\n",
    "    output = dense1.forward(X)\n",
    "    output = activation1.forward(output)\n",
    "    output = dense2.forward(output)\n",
    "    output = activation2.forward(output)\n",
    "\n",
    "    # Calculate the network's current loss\n",
    "    data_loss = loss_fn.calculate(output, y)\n",
    "    reg_loss = loss_fn.regularsiation_loss(dense1) +\\\n",
    "        loss_fn.regularsiation_loss(dense2)\n",
    "    loss = data_loss + reg_loss\n",
    "\n",
    "    # Calculate accuracy\n",
    "    predictions = (activation2.outputs > 0.5) * 1\n",
    "    accuracy = np.mean(predictions == y)\n",
    "\n",
    "    # Print accuracy\n",
    "    if not epoch % 100: print(\n",
    "        f\"epoch: {epoch}, acc: {accuracy:.3f}, loss: {loss:.3f}, \"\n",
    "        f\"(data_loss: {data_loss}, reg_loss: {reg_loss}), \"\n",
    "        f\"lr: {optimiser.current_learning_rate}\"\n",
    "    )\n",
    "\n",
    "    # Backward pass\n",
    "    loss_fn.backward(activation2.outputs, y)\n",
    "    activation2.backward(loss_fn.dinputs)\n",
    "    dense2.backward(activation2.dinputs)\n",
    "    activation1.backward(dense2.dinputs)\n",
    "    dense1.backward(activation1.dinputs)\n",
    "\n",
    "    # Update weights and biases\n",
    "    optimiser.pre_update_params()\n",
    "    optimiser.update_params(dense1)\n",
    "    optimiser.update_params(dense2)\n",
    "    optimiser.post_update_params()"
   ]
  },
  {
   "attachments": {},
   "cell_type": "markdown",
   "metadata": {},
   "source": [
    "## Evaluation"
   ]
  },
  {
   "cell_type": "code",
   "execution_count": 5,
   "metadata": {},
   "outputs": [],
   "source": [
    "# Create the validation data set\n",
    "X_test, y_test = spiral_data(samples=100, classes=2)\n",
    "y_test = y_test.reshape(-1, 1)"
   ]
  },
  {
   "cell_type": "code",
   "execution_count": 6,
   "metadata": {},
   "outputs": [],
   "source": [
    "# Forward pass on validation set\n",
    "output = dense1.forward(X_test)\n",
    "output = activation1.forward(output)\n",
    "output = dense2.forward(output)\n",
    "output = activation2.forward(output)\n",
    "\n",
    "# Calculate validation loss\n",
    "loss = loss_fn.calculate(output, y_test)"
   ]
  },
  {
   "cell_type": "code",
   "execution_count": 7,
   "metadata": {},
   "outputs": [
    {
     "name": "stdout",
     "output_type": "stream",
     "text": [
      "validation, acc: 0.895, loss: 0.353\n"
     ]
    }
   ],
   "source": [
    "# Calculate accuracy\n",
    "predictions = (activation2.outputs > 0.5) * 1\n",
    "accuracy = np.mean(predictions == y_test)\n",
    "\n",
    "print(f\"validation, acc: {accuracy:.3f}, loss: {loss:.3f}\")"
   ]
  },
  {
   "cell_type": "code",
   "execution_count": null,
   "metadata": {},
   "outputs": [],
   "source": []
  }
 ],
 "metadata": {
  "kernelspec": {
   "display_name": ".venv",
   "language": "python",
   "name": "python3"
  },
  "language_info": {
   "codemirror_mode": {
    "name": "ipython",
    "version": 3
   },
   "file_extension": ".py",
   "mimetype": "text/x-python",
   "name": "python",
   "nbconvert_exporter": "python",
   "pygments_lexer": "ipython3",
   "version": "3.7.16"
  },
  "orig_nbformat": 4,
  "vscode": {
   "interpreter": {
    "hash": "d485a98a36d7387b9a90aa3c793ce7a86a2239fa29b78a2ccbe0584c0791300d"
   }
  }
 },
 "nbformat": 4,
 "nbformat_minor": 2
}
