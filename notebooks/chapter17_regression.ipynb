{
 "cells": [
  {
   "attachments": {},
   "cell_type": "markdown",
   "metadata": {},
   "source": [
    "# Chapter 11: Testing with Out-of-Sample Data"
   ]
  },
  {
   "cell_type": "code",
   "execution_count": 1,
   "metadata": {},
   "outputs": [],
   "source": [
    "import sys\n",
    "import os\n",
    "sys.path.append('/home/yutanagano/Projects/nnfs')\n",
    "os.chdir('/home/yutanagano/Projects/nnfs')"
   ]
  },
  {
   "cell_type": "code",
   "execution_count": 2,
   "metadata": {},
   "outputs": [],
   "source": [
    "import numpy as np\n",
    "import nnfs\n",
    "from nnfs.datasets import sine_data\n",
    "\n",
    "nnfs.init()\n",
    "\n",
    "import nnn"
   ]
  },
  {
   "attachments": {},
   "cell_type": "markdown",
   "metadata": {},
   "source": [
    "## Setup"
   ]
  },
  {
   "cell_type": "code",
   "execution_count": 3,
   "metadata": {},
   "outputs": [],
   "source": [
    "# Create dataset\n",
    "X, y = sine_data()\n",
    "\n",
    "# Create the necessary layers\n",
    "dense1 = nnn.layer.Dense(n_inputs=1, n_neurons=64)\n",
    "activation1 = nnn.activation.Relu()\n",
    "dense2 = nnn.layer.Dense(n_inputs=64, n_neurons=64)\n",
    "activation2 = nnn.activation.Relu()\n",
    "dense3 = nnn.layer.Dense(n_inputs=64, n_neurons=1)\n",
    "activation3 = nnn.activation.Linear()\n",
    "\n",
    "loss_fn = nnn.loss.MeanSquaredError()\n",
    "\n",
    "# Create the optimiser\n",
    "optimiser = nnn.optimiser.Adam()\n",
    "\n",
    "accuracy_precision = np.std(y) / 250"
   ]
  },
  {
   "attachments": {},
   "cell_type": "markdown",
   "metadata": {},
   "source": [
    "## Training"
   ]
  },
  {
   "cell_type": "code",
   "execution_count": 4,
   "metadata": {},
   "outputs": [
    {
     "name": "stdout",
     "output_type": "stream",
     "text": [
      "epoch: 0, acc: 0.002, loss: 0.500, (data_loss: 0.500, reg_loss: 0.000000), lr: 0.001\n",
      "epoch: 100, acc: 0.003, loss: 0.318, (data_loss: 0.318, reg_loss: 0.000000), lr: 0.001\n",
      "epoch: 200, acc: 0.004, loss: 0.100, (data_loss: 0.100, reg_loss: 0.000000), lr: 0.001\n",
      "epoch: 300, acc: 0.023, loss: 0.064, (data_loss: 0.064, reg_loss: 0.000000), lr: 0.001\n",
      "epoch: 400, acc: 0.036, loss: 0.050, (data_loss: 0.050, reg_loss: 0.000000), lr: 0.001\n",
      "epoch: 500, acc: 0.047, loss: 0.034, (data_loss: 0.034, reg_loss: 0.000000), lr: 0.001\n",
      "epoch: 600, acc: 0.053, loss: 0.021, (data_loss: 0.021, reg_loss: 0.000000), lr: 0.001\n",
      "epoch: 700, acc: 0.061, loss: 0.012, (data_loss: 0.012, reg_loss: 0.000000), lr: 0.001\n",
      "epoch: 800, acc: 0.130, loss: 0.007, (data_loss: 0.007, reg_loss: 0.000000), lr: 0.001\n",
      "epoch: 900, acc: 0.225, loss: 0.004, (data_loss: 0.004, reg_loss: 0.000000), lr: 0.001\n",
      "epoch: 1000, acc: 0.296, loss: 0.003, (data_loss: 0.003, reg_loss: 0.000000), lr: 0.001\n",
      "epoch: 1100, acc: 0.349, loss: 0.002, (data_loss: 0.002, reg_loss: 0.000000), lr: 0.001\n",
      "epoch: 1200, acc: 0.411, loss: 0.001, (data_loss: 0.001, reg_loss: 0.000000), lr: 0.001\n",
      "epoch: 1300, acc: 0.351, loss: 0.001, (data_loss: 0.001, reg_loss: 0.000000), lr: 0.001\n",
      "epoch: 1400, acc: 0.496, loss: 0.001, (data_loss: 0.001, reg_loss: 0.000000), lr: 0.001\n",
      "epoch: 1500, acc: 0.547, loss: 0.001, (data_loss: 0.001, reg_loss: 0.000000), lr: 0.001\n",
      "epoch: 1600, acc: 0.593, loss: 0.001, (data_loss: 0.001, reg_loss: 0.000000), lr: 0.001\n",
      "epoch: 1700, acc: 0.618, loss: 0.000, (data_loss: 0.000, reg_loss: 0.000000), lr: 0.001\n",
      "epoch: 1800, acc: 0.499, loss: 0.000, (data_loss: 0.000, reg_loss: 0.000000), lr: 0.001\n",
      "epoch: 1900, acc: 0.665, loss: 0.000, (data_loss: 0.000, reg_loss: 0.000000), lr: 0.001\n",
      "epoch: 2000, acc: 0.684, loss: 0.000, (data_loss: 0.000, reg_loss: 0.000000), lr: 0.001\n",
      "epoch: 2100, acc: 0.631, loss: 0.000, (data_loss: 0.000, reg_loss: 0.000000), lr: 0.001\n",
      "epoch: 2200, acc: 0.692, loss: 0.000, (data_loss: 0.000, reg_loss: 0.000000), lr: 0.001\n",
      "epoch: 2300, acc: 0.453, loss: 0.000, (data_loss: 0.000, reg_loss: 0.000000), lr: 0.001\n",
      "epoch: 2400, acc: 0.702, loss: 0.000, (data_loss: 0.000, reg_loss: 0.000000), lr: 0.001\n",
      "epoch: 2500, acc: 0.704, loss: 0.000, (data_loss: 0.000, reg_loss: 0.000000), lr: 0.001\n",
      "epoch: 2600, acc: 0.706, loss: 0.000, (data_loss: 0.000, reg_loss: 0.000000), lr: 0.001\n",
      "epoch: 2700, acc: 0.709, loss: 0.000, (data_loss: 0.000, reg_loss: 0.000000), lr: 0.001\n",
      "epoch: 2800, acc: 0.709, loss: 0.000, (data_loss: 0.000, reg_loss: 0.000000), lr: 0.001\n",
      "epoch: 2900, acc: 0.720, loss: 0.000, (data_loss: 0.000, reg_loss: 0.000000), lr: 0.001\n",
      "epoch: 3000, acc: 0.716, loss: 0.000, (data_loss: 0.000, reg_loss: 0.000000), lr: 0.001\n",
      "epoch: 3100, acc: 0.750, loss: 0.000, (data_loss: 0.000, reg_loss: 0.000000), lr: 0.001\n",
      "epoch: 3200, acc: 0.688, loss: 0.000, (data_loss: 0.000, reg_loss: 0.000000), lr: 0.001\n",
      "epoch: 3300, acc: 0.746, loss: 0.000, (data_loss: 0.000, reg_loss: 0.000000), lr: 0.001\n",
      "epoch: 3400, acc: 0.622, loss: 0.000, (data_loss: 0.000, reg_loss: 0.000000), lr: 0.001\n",
      "epoch: 3500, acc: 0.771, loss: 0.000, (data_loss: 0.000, reg_loss: 0.000000), lr: 0.001\n",
      "epoch: 3600, acc: 0.766, loss: 0.000, (data_loss: 0.000, reg_loss: 0.000000), lr: 0.001\n",
      "epoch: 3700, acc: 0.729, loss: 0.000, (data_loss: 0.000, reg_loss: 0.000000), lr: 0.001\n",
      "epoch: 3800, acc: 0.793, loss: 0.000, (data_loss: 0.000, reg_loss: 0.000000), lr: 0.001\n",
      "epoch: 3900, acc: 0.707, loss: 0.000, (data_loss: 0.000, reg_loss: 0.000000), lr: 0.001\n",
      "epoch: 4000, acc: 0.241, loss: 0.000, (data_loss: 0.000, reg_loss: 0.000000), lr: 0.001\n",
      "epoch: 4100, acc: 0.463, loss: 0.000, (data_loss: 0.000, reg_loss: 0.000000), lr: 0.001\n",
      "epoch: 4200, acc: 0.797, loss: 0.000, (data_loss: 0.000, reg_loss: 0.000000), lr: 0.001\n",
      "epoch: 4300, acc: 0.820, loss: 0.000, (data_loss: 0.000, reg_loss: 0.000000), lr: 0.001\n",
      "epoch: 4400, acc: 0.614, loss: 0.000, (data_loss: 0.000, reg_loss: 0.000000), lr: 0.001\n",
      "epoch: 4500, acc: 0.802, loss: 0.000, (data_loss: 0.000, reg_loss: 0.000000), lr: 0.001\n",
      "epoch: 4600, acc: 0.828, loss: 0.000, (data_loss: 0.000, reg_loss: 0.000000), lr: 0.001\n",
      "epoch: 4700, acc: 0.521, loss: 0.000, (data_loss: 0.000, reg_loss: 0.000000), lr: 0.001\n",
      "epoch: 4800, acc: 0.680, loss: 0.000, (data_loss: 0.000, reg_loss: 0.000000), lr: 0.001\n",
      "epoch: 4900, acc: 0.620, loss: 0.000, (data_loss: 0.000, reg_loss: 0.000000), lr: 0.001\n",
      "epoch: 5000, acc: 0.769, loss: 0.000, (data_loss: 0.000, reg_loss: 0.000000), lr: 0.001\n",
      "epoch: 5100, acc: 0.816, loss: 0.000, (data_loss: 0.000, reg_loss: 0.000000), lr: 0.001\n",
      "epoch: 5200, acc: 0.566, loss: 0.000, (data_loss: 0.000, reg_loss: 0.000000), lr: 0.001\n",
      "epoch: 5300, acc: 0.836, loss: 0.000, (data_loss: 0.000, reg_loss: 0.000000), lr: 0.001\n",
      "epoch: 5400, acc: 0.857, loss: 0.000, (data_loss: 0.000, reg_loss: 0.000000), lr: 0.001\n",
      "epoch: 5500, acc: 0.848, loss: 0.000, (data_loss: 0.000, reg_loss: 0.000000), lr: 0.001\n",
      "epoch: 5600, acc: 0.847, loss: 0.000, (data_loss: 0.000, reg_loss: 0.000000), lr: 0.001\n",
      "epoch: 5700, acc: 0.722, loss: 0.000, (data_loss: 0.000, reg_loss: 0.000000), lr: 0.001\n",
      "epoch: 5800, acc: 0.691, loss: 0.000, (data_loss: 0.000, reg_loss: 0.000000), lr: 0.001\n",
      "epoch: 5900, acc: 0.826, loss: 0.000, (data_loss: 0.000, reg_loss: 0.000000), lr: 0.001\n",
      "epoch: 6000, acc: 0.613, loss: 0.000, (data_loss: 0.000, reg_loss: 0.000000), lr: 0.001\n",
      "epoch: 6100, acc: 0.821, loss: 0.000, (data_loss: 0.000, reg_loss: 0.000000), lr: 0.001\n",
      "epoch: 6200, acc: 0.811, loss: 0.000, (data_loss: 0.000, reg_loss: 0.000000), lr: 0.001\n",
      "epoch: 6300, acc: 0.597, loss: 0.000, (data_loss: 0.000, reg_loss: 0.000000), lr: 0.001\n",
      "epoch: 6400, acc: 0.553, loss: 0.000, (data_loss: 0.000, reg_loss: 0.000000), lr: 0.001\n",
      "epoch: 6500, acc: 0.489, loss: 0.000, (data_loss: 0.000, reg_loss: 0.000000), lr: 0.001\n",
      "epoch: 6600, acc: 0.670, loss: 0.000, (data_loss: 0.000, reg_loss: 0.000000), lr: 0.001\n",
      "epoch: 6700, acc: 0.872, loss: 0.000, (data_loss: 0.000, reg_loss: 0.000000), lr: 0.001\n",
      "epoch: 6800, acc: 0.424, loss: 0.000, (data_loss: 0.000, reg_loss: 0.000000), lr: 0.001\n",
      "epoch: 6900, acc: 0.505, loss: 0.000, (data_loss: 0.000, reg_loss: 0.000000), lr: 0.001\n",
      "epoch: 7000, acc: 0.488, loss: 0.000, (data_loss: 0.000, reg_loss: 0.000000), lr: 0.001\n",
      "epoch: 7100, acc: 0.672, loss: 0.000, (data_loss: 0.000, reg_loss: 0.000000), lr: 0.001\n",
      "epoch: 7200, acc: 0.584, loss: 0.000, (data_loss: 0.000, reg_loss: 0.000000), lr: 0.001\n",
      "epoch: 7300, acc: 0.535, loss: 0.000, (data_loss: 0.000, reg_loss: 0.000000), lr: 0.001\n",
      "epoch: 7400, acc: 0.851, loss: 0.000, (data_loss: 0.000, reg_loss: 0.000000), lr: 0.001\n",
      "epoch: 7500, acc: 0.696, loss: 0.000, (data_loss: 0.000, reg_loss: 0.000000), lr: 0.001\n",
      "epoch: 7600, acc: 0.378, loss: 0.000, (data_loss: 0.000, reg_loss: 0.000000), lr: 0.001\n",
      "epoch: 7700, acc: 0.381, loss: 0.000, (data_loss: 0.000, reg_loss: 0.000000), lr: 0.001\n",
      "epoch: 7800, acc: 0.399, loss: 0.000, (data_loss: 0.000, reg_loss: 0.000000), lr: 0.001\n",
      "epoch: 7900, acc: 0.849, loss: 0.000, (data_loss: 0.000, reg_loss: 0.000000), lr: 0.001\n",
      "epoch: 8000, acc: 0.880, loss: 0.000, (data_loss: 0.000, reg_loss: 0.000000), lr: 0.001\n",
      "epoch: 8100, acc: 0.766, loss: 0.000, (data_loss: 0.000, reg_loss: 0.000000), lr: 0.001\n",
      "epoch: 8200, acc: 0.622, loss: 0.000, (data_loss: 0.000, reg_loss: 0.000000), lr: 0.001\n",
      "epoch: 8300, acc: 0.606, loss: 0.000, (data_loss: 0.000, reg_loss: 0.000000), lr: 0.001\n",
      "epoch: 8400, acc: 0.852, loss: 0.000, (data_loss: 0.000, reg_loss: 0.000000), lr: 0.001\n",
      "epoch: 8500, acc: 0.783, loss: 0.000, (data_loss: 0.000, reg_loss: 0.000000), lr: 0.001\n",
      "epoch: 8600, acc: 0.887, loss: 0.000, (data_loss: 0.000, reg_loss: 0.000000), lr: 0.001\n",
      "epoch: 8700, acc: 0.681, loss: 0.000, (data_loss: 0.000, reg_loss: 0.000000), lr: 0.001\n",
      "epoch: 8800, acc: 0.655, loss: 0.000, (data_loss: 0.000, reg_loss: 0.000000), lr: 0.001\n",
      "epoch: 8900, acc: 0.539, loss: 0.000, (data_loss: 0.000, reg_loss: 0.000000), lr: 0.001\n",
      "epoch: 9000, acc: 0.576, loss: 0.000, (data_loss: 0.000, reg_loss: 0.000000), lr: 0.001\n",
      "epoch: 9100, acc: 0.608, loss: 0.000, (data_loss: 0.000, reg_loss: 0.000000), lr: 0.001\n",
      "epoch: 9200, acc: 0.654, loss: 0.000, (data_loss: 0.000, reg_loss: 0.000000), lr: 0.001\n",
      "epoch: 9300, acc: 0.482, loss: 0.000, (data_loss: 0.000, reg_loss: 0.000000), lr: 0.001\n",
      "epoch: 9400, acc: 0.345, loss: 0.000, (data_loss: 0.000, reg_loss: 0.000000), lr: 0.001\n",
      "epoch: 9500, acc: 0.409, loss: 0.000, (data_loss: 0.000, reg_loss: 0.000000), lr: 0.001\n",
      "epoch: 9600, acc: 0.898, loss: 0.000, (data_loss: 0.000, reg_loss: 0.000000), lr: 0.001\n",
      "epoch: 9700, acc: 0.209, loss: 0.000, (data_loss: 0.000, reg_loss: 0.000000), lr: 0.001\n",
      "epoch: 9800, acc: 0.815, loss: 0.000, (data_loss: 0.000, reg_loss: 0.000000), lr: 0.001\n",
      "epoch: 9900, acc: 0.299, loss: 0.000, (data_loss: 0.000, reg_loss: 0.000000), lr: 0.001\n",
      "epoch: 10000, acc: 0.679, loss: 0.000, (data_loss: 0.000, reg_loss: 0.000000), lr: 0.001\n"
     ]
    }
   ],
   "source": [
    "# Training loop\n",
    "for epoch in range(10001):\n",
    "    # Forward pass\n",
    "    output = dense1.forward(X)\n",
    "    output = activation1.forward(output)\n",
    "    output = dense2.forward(output)\n",
    "    output = activation2.forward(output)\n",
    "    output = dense3.forward(output)\n",
    "    output = activation3.forward(output)\n",
    "\n",
    "    # Calculate the network's current loss\n",
    "    data_loss = loss_fn.calculate(output, y)\n",
    "    reg_loss = loss_fn.regularsiation_loss(dense1) +\\\n",
    "        loss_fn.regularsiation_loss(dense2) +\\\n",
    "        loss_fn.regularsiation_loss(dense3)\n",
    "    loss = data_loss + reg_loss\n",
    "\n",
    "    # Calculate accuracy\n",
    "    accuracy = np.mean(np.absolute(output - y) < accuracy_precision)\n",
    "\n",
    "    # Print accuracy\n",
    "    if not epoch % 100: print(\n",
    "        f\"epoch: {epoch}, acc: {accuracy:.3f}, loss: {loss:.3f}, \"\n",
    "        f\"(data_loss: {data_loss:.3f}, reg_loss: {reg_loss:3f}), \"\n",
    "        f\"lr: {optimiser.current_learning_rate}\"\n",
    "    )\n",
    "\n",
    "    # Backward pass\n",
    "    loss_fn.backward(output, y)\n",
    "    activation3.backward(loss_fn.dinputs)\n",
    "    dense3.backward(activation3.dinputs)\n",
    "    activation2.backward(dense3.dinputs)\n",
    "    dense2.backward(activation2.dinputs)\n",
    "    activation1.backward(dense2.dinputs)\n",
    "    dense1.backward(activation1.dinputs)\n",
    "\n",
    "    # Update weights and biases\n",
    "    optimiser.pre_update_params()\n",
    "    optimiser.update_params(dense1)\n",
    "    optimiser.update_params(dense2)\n",
    "    optimiser.post_update_params()"
   ]
  },
  {
   "attachments": {},
   "cell_type": "markdown",
   "metadata": {},
   "source": [
    "## Validation"
   ]
  },
  {
   "cell_type": "code",
   "execution_count": 5,
   "metadata": {},
   "outputs": [
    {
     "data": {
      "image/png": "[encoded data removed]",
      "text/plain": [
       "<Figure size 640x480 with 1 Axes>"
      ]
     },
     "metadata": {},
     "output_type": "display_data"
    }
   ],
   "source": [
    "import matplotlib.pyplot as plt\n",
    "\n",
    "X_test, y_test = sine_data()\n",
    "\n",
    "output = dense1.forward(X_test)\n",
    "output = activation1.forward(output)\n",
    "output = dense2.forward(output)\n",
    "output = activation2.forward(output)\n",
    "output = dense3.forward(output)\n",
    "output = activation3.forward(output)\n",
    "\n",
    "plt.plot(X_test, y_test)\n",
    "plt.plot(X_test, output)\n",
    "plt.show()"
   ]
  }
 ],
 "metadata": {
  "kernelspec": {
   "display_name": ".venv",
   "language": "python",
   "name": "python3"
  },
  "language_info": {
   "codemirror_mode": {
    "name": "ipython",
    "version": 3
   },
   "file_extension": ".py",
   "mimetype": "text/x-python",
   "name": "python",
   "nbconvert_exporter": "python",
   "pygments_lexer": "ipython3",
   "version": "3.7.16"
  },
  "orig_nbformat": 4,
  "vscode": {
   "interpreter": {
    "hash": "d485a98a36d7387b9a90aa3c793ce7a86a2239fa29b78a2ccbe0584c0791300d"
   }
  }
 },
 "nbformat": 4,
 "nbformat_minor": 2
}
