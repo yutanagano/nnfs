{
 "cells": [
  {
   "cell_type": "code",
   "execution_count": 1,
   "metadata": {},
   "outputs": [],
   "source": [
    "import sys\n",
    "import os\n",
    "sys.path.append('/home/yutanagano/Projects/nnfs')\n",
    "os.chdir('/home/yutanagano/Projects/nnfs')"
   ]
  },
  {
   "attachments": {},
   "cell_type": "markdown",
   "metadata": {},
   "source": [
    "# Data loading"
   ]
  },
  {
   "cell_type": "code",
   "execution_count": 2,
   "metadata": {},
   "outputs": [
    {
     "name": "stdout",
     "output_type": "stream",
     "text": [
      "['9', '0', '3', '2', '7', '5', '1', '6', '4', '8']\n"
     ]
    }
   ],
   "source": [
    "labels = os.listdir('fashion_mnist_images/train/')\n",
    "print(labels)"
   ]
  },
  {
   "cell_type": "code",
   "execution_count": 3,
   "metadata": {},
   "outputs": [
    {
     "name": "stdout",
     "output_type": "stream",
     "text": [
      "['0000.png', '0001.png', '0002.png', '0003.png', '0004.png', '0005.png', '0006.png', '0007.png', '0008.png', '0009.png']\n",
      "6000\n"
     ]
    }
   ],
   "source": [
    "files = os.listdir('fashion_mnist_images/train/0')\n",
    "print(files[:10])\n",
    "print(len(files))"
   ]
  },
  {
   "cell_type": "code",
   "execution_count": 4,
   "metadata": {},
   "outputs": [
    {
     "name": "stdout",
     "output_type": "stream",
     "text": [
      "[[  0   0   0   0   0   0   0   0   0   0   0   0   0   0   0   0   0   0\n",
      "    0   0   0   0   0   0   0   0   0   0]\n",
      " [  0   0   0   0   0   0   0   0   0   0   0   0   0   0   0   0   0   0\n",
      "    0   0   0   0   0   0   0   0   0   0]\n",
      " [  0   0   0   0   0   0   0   0   0   0   0   0   0   0   0   0   0   0\n",
      "    0   0   0   0   0   0   0   0   0   0]\n",
      " [  0   0   0   0   0   0   0   0   0   0   0   0   0   0   0   0   0   0\n",
      "    0   0   0   0   0   0   0   0   0   0]\n",
      " [  0   0   0   0   0   0   0   0   0   0   0   0   0   0   0   0   0   0\n",
      "    0   0   0   0   0   0   0   0   0   0]\n",
      " [  0   0   0   0   0   0   0   0   0   0   0   0   0   0   0   0   0   0\n",
      "    0   0   0   0   0   0   0   0   0   0]\n",
      " [  0   0   0   0   0   0   0   0   0   0   0   0   0   0   0   0   0   0\n",
      "    0   0   0   0   0   0   0   0   0   0]\n",
      " [  0   0   0   0   0   0   0   0   0   0   0   0   0   1   0   0   0  49\n",
      "  135 182 150  59   0   0   0   0   0   0]\n",
      " [  0   0   0   0   0   0   0   0   0   0   0   0   0   0   0   0  78 255\n",
      "  220 212 219 255 246 191 155  87   0   0]\n",
      " [  0   0   0   0   0   0   0   0   0   0   0   0   1   0   0  57 206 215\n",
      "  203 191 203 212 216 217 220 211  15   0]\n",
      " [  0   0   0   0   0   0   0   0   0   0   1   0   0   0  58 231 220 210\n",
      "  199 209 218 218 217 208 200 215  56   0]\n",
      " [  0   0   0   0   1   2   0   0   4   0   0   0   0 145 213 207 199 187\n",
      "  203 210 216 217 215 215 206 215 130   0]\n",
      " [  0   0   0   0   1   2   4   0   0   0   3 105 225 205 190 201 210 214\n",
      "  213 215 215 212 211 208 205 207 218   0]\n",
      " [  1   5   7   0   0   0   0   0  52 162 217 189 174 157 187 198 202 217\n",
      "  220 223 224 222 217 211 217 201 247  65]\n",
      " [  0   0   0   0   0   0  21  72 185 189 171 171 185 203 200 207 208 209\n",
      "  214 219 222 222 224 215 218 211 212 148]\n",
      " [  0  70 114 129 145 159 179 196 172 176 185 196 199 206 201 210 212 213\n",
      "  216 218 219 217 212 207 208 200 198 173]\n",
      " [  0 122 158 184 194 192 193 196 203 209 211 211 215 218 221 222 226 227\n",
      "  227 226 226 223 222 216 211 208 216 185]\n",
      " [ 21   0   0  12  48  82 123 152 170 184 195 211 225 232 233 237 242 242\n",
      "  240 240 238 236 222 209 200 193 185 106]\n",
      " [ 26  47  54  18   5   0   0   0   0   0   0   0   0   0   2   4   6   9\n",
      "    9   8   9   6   6   4   2   0   0   0]\n",
      " [  0  10  27  45  55  59  57  50  44  51  58  62  65  56  54  57  59  61\n",
      "   60  63  68  67  66  73  77  74  65  39]\n",
      " [  0   0   0   0   4   9  18  23  26  25  23  25  29  37  38  37  39  36\n",
      "   29  31  33  34  28  24  20  14   7   0]\n",
      " [  0   0   0   0   0   0   0   0   0   0   0   0   0   0   0   0   0   0\n",
      "    0   0   0   0   0   0   0   0   0   0]\n",
      " [  0   0   0   0   0   0   0   0   0   0   0   0   0   0   0   0   0   0\n",
      "    0   0   0   0   0   0   0   0   0   0]\n",
      " [  0   0   0   0   0   0   0   0   0   0   0   0   0   0   0   0   0   0\n",
      "    0   0   0   0   0   0   0   0   0   0]\n",
      " [  0   0   0   0   0   0   0   0   0   0   0   0   0   0   0   0   0   0\n",
      "    0   0   0   0   0   0   0   0   0   0]\n",
      " [  0   0   0   0   0   0   0   0   0   0   0   0   0   0   0   0   0   0\n",
      "    0   0   0   0   0   0   0   0   0   0]\n",
      " [  0   0   0   0   0   0   0   0   0   0   0   0   0   0   0   0   0   0\n",
      "    0   0   0   0   0   0   0   0   0   0]\n",
      " [  0   0   0   0   0   0   0   0   0   0   0   0   0   0   0   0   0   0\n",
      "    0   0   0   0   0   0   0   0   0   0]]\n"
     ]
    }
   ],
   "source": [
    "import cv2\n",
    "\n",
    "image_data = cv2.imread('fashion_mnist_images/train/7/0002.png', cv2.IMREAD_UNCHANGED)\n",
    "print(image_data)"
   ]
  },
  {
   "cell_type": "code",
   "execution_count": 5,
   "metadata": {},
   "outputs": [
    {
     "data": {
      "image/png": "[encoded data removed]",
      "text/plain": [
       "<Figure size 640x480 with 1 Axes>"
      ]
     },
     "metadata": {},
     "output_type": "display_data"
    }
   ],
   "source": [
    "import matplotlib.pyplot as plt\n",
    "\n",
    "plt.imshow(image_data, cmap='gray')\n",
    "plt.show()"
   ]
  },
  {
   "cell_type": "code",
   "execution_count": 6,
   "metadata": {},
   "outputs": [],
   "source": [
    "import numpy as np\n",
    "\n",
    "def load_mnist_dataset(dataset, path):\n",
    "    # Scan all the directories and create a list of labels\n",
    "    labels = os.listdir(os.path.join(path, dataset))\n",
    "    # Create lists for samples and labels\n",
    "    X = []\n",
    "    y = []\n",
    "    # For each label folder\n",
    "    for label in labels:\n",
    "        # And for each image in given folder\n",
    "        for file in os.listdir(os.path.join(path, dataset, label)):\n",
    "            # Read the image\n",
    "            image = cv2.imread(os.path.join(\n",
    "                path, dataset, label, file\n",
    "            ), cv2.IMREAD_UNCHANGED)\n",
    "            # And append it and a label to the lists\n",
    "            X.append(image)\n",
    "            y.append(label)\n",
    "    # Convert the data to proper numpy arrays and return\n",
    "    return np.array(X), np.array(y).astype('uint8')\n",
    "\n",
    "\n",
    "def create_data_mnist(path):\n",
    "    # Load both sets separately\n",
    "    X, y = load_mnist_dataset('train', path)\n",
    "    X_test, y_test = load_mnist_dataset('test', path)\n",
    "    # And return all the data\n",
    "    return X, y, X_test, y_test"
   ]
  },
  {
   "cell_type": "code",
   "execution_count": 7,
   "metadata": {},
   "outputs": [],
   "source": [
    "X, y, X_test, y_test = create_data_mnist('fashion_mnist_images')"
   ]
  },
  {
   "cell_type": "code",
   "execution_count": 8,
   "metadata": {},
   "outputs": [],
   "source": [
    "X = (X.astype(np.float32) - 127.5) / 127.5\n",
    "X_test = (X_test.astype(np.float32) - 127.5) / 127.5"
   ]
  },
  {
   "cell_type": "code",
   "execution_count": 9,
   "metadata": {},
   "outputs": [],
   "source": [
    "X = X.reshape(X.shape[0], -1)\n",
    "X_test = X_test.reshape(X_test.shape[0], -1)"
   ]
  },
  {
   "cell_type": "code",
   "execution_count": 10,
   "metadata": {},
   "outputs": [
    {
     "name": "stdout",
     "output_type": "stream",
     "text": [
      "[    0     1     2 ... 59997 59998 59999]\n"
     ]
    }
   ],
   "source": [
    "keys = np.arange(X.shape[0])\n",
    "print(keys)"
   ]
  },
  {
   "cell_type": "code",
   "execution_count": 11,
   "metadata": {},
   "outputs": [
    {
     "name": "stdout",
     "output_type": "stream",
     "text": [
      "[ 3048 19563 58303 ... 42613 43567  2732]\n"
     ]
    }
   ],
   "source": [
    "import nnfs\n",
    "nnfs.init()\n",
    "\n",
    "np.random.shuffle(keys)\n",
    "print(keys)"
   ]
  },
  {
   "cell_type": "code",
   "execution_count": 12,
   "metadata": {},
   "outputs": [],
   "source": [
    "X = X[keys]\n",
    "y = y[keys]"
   ]
  },
  {
   "attachments": {},
   "cell_type": "markdown",
   "metadata": {},
   "source": [
    "# Training"
   ]
  },
  {
   "cell_type": "code",
   "execution_count": 13,
   "metadata": {},
   "outputs": [],
   "source": [
    "import nnn\n",
    "\n",
    "model = nnn.module.Module()\n",
    "\n",
    "model.add(nnn.layer.Dense(X.shape[1], 64))\n",
    "model.add(nnn.layer.Dropout(0.1))\n",
    "model.add(nnn.activation.Relu())\n",
    "model.add(nnn.layer.Dense(64, 64))\n",
    "model.add(nnn.layer.Dropout(0.1))\n",
    "model.add(nnn.activation.Relu())\n",
    "model.add(nnn.layer.Dense(64, 10))\n",
    "model.add(nnn.activation.Softmax())\n",
    "\n",
    "model.set(\n",
    "    loss=nnn.loss.CategoricalCrossEntropy(),\n",
    "    optimiser=nnn.optimiser.Adam(decay=1e-4),\n",
    "    accuracy=nnn.accuracy.Categorical()\n",
    ")\n",
    "\n",
    "model.finalise()"
   ]
  },
  {
   "cell_type": "code",
   "execution_count": 14,
   "metadata": {},
   "outputs": [
    {
     "name": "stdout",
     "output_type": "stream",
     "text": [
      "epoch: 1\n",
      "step: 0, acc: 0.078, loss: 2.303 (data_loss: 2.303, reg_loss: 0.000), lr: 0.001\n",
      "step: 100, acc: 0.652, loss: 0.828 (data_loss: 0.828, reg_loss: 0.000), lr: 0.0009900990099009901\n",
      "step: 200, acc: 0.734, loss: 0.718 (data_loss: 0.718, reg_loss: 0.000), lr: 0.000980392156862745\n",
      "step: 234, acc: 0.781, loss: 0.698 (data_loss: 0.698, reg_loss: 0.000), lr: 0.0009771350400625367\n",
      "training, acc: 0.651, loss: 0.948 (data_loss: 0.948, reg_loss: 0.000), lr: 0.0009771350400625367\n",
      "validation, acc: 0.779, loss: 0.600\n",
      "epoch: 2\n",
      "step: 0, acc: 0.785, loss: 0.587 (data_loss: 0.587, reg_loss: 0.000), lr: 0.0009770395701025891\n",
      "step: 100, acc: 0.762, loss: 0.621 (data_loss: 0.621, reg_loss: 0.000), lr: 0.0009675858732462506\n",
      "step: 200, acc: 0.824, loss: 0.541 (data_loss: 0.541, reg_loss: 0.000), lr: 0.0009583133684714901\n",
      "step: 234, acc: 0.833, loss: 0.523 (data_loss: 0.523, reg_loss: 0.000), lr: 0.0009552010698251983\n",
      "training, acc: 0.794, loss: 0.558 (data_loss: 0.558, reg_loss: 0.000), lr: 0.0009552010698251983\n",
      "validation, acc: 0.816, loss: 0.507\n",
      "epoch: 3\n",
      "step: 0, acc: 0.820, loss: 0.516 (data_loss: 0.516, reg_loss: 0.000), lr: 0.0009551098376313277\n",
      "step: 100, acc: 0.793, loss: 0.494 (data_loss: 0.494, reg_loss: 0.000), lr: 0.0009460737937559131\n",
      "step: 200, acc: 0.816, loss: 0.509 (data_loss: 0.509, reg_loss: 0.000), lr: 0.0009372071227741331\n",
      "step: 234, acc: 0.823, loss: 0.464 (data_loss: 0.464, reg_loss: 0.000), lr: 0.0009342301943198805\n",
      "training, acc: 0.823, loss: 0.486 (data_loss: 0.486, reg_loss: 0.000), lr: 0.0009342301943198805\n",
      "validation, acc: 0.834, loss: 0.462\n",
      "epoch: 4\n",
      "step: 0, acc: 0.840, loss: 0.441 (data_loss: 0.441, reg_loss: 0.000), lr: 0.0009341429238673517\n",
      "step: 100, acc: 0.848, loss: 0.455 (data_loss: 0.455, reg_loss: 0.000), lr: 0.0009254974548819991\n",
      "step: 200, acc: 0.824, loss: 0.474 (data_loss: 0.474, reg_loss: 0.000), lr: 0.0009170105456212746\n",
      "step: 234, acc: 0.854, loss: 0.411 (data_loss: 0.411, reg_loss: 0.000), lr: 0.0009141603437242892\n",
      "training, acc: 0.840, loss: 0.447 (data_loss: 0.447, reg_loss: 0.000), lr: 0.0009141603437242892\n",
      "validation, acc: 0.844, loss: 0.436\n",
      "epoch: 5\n",
      "step: 0, acc: 0.871, loss: 0.383 (data_loss: 0.383, reg_loss: 0.000), lr: 0.0009140767824497257\n",
      "step: 100, acc: 0.836, loss: 0.438 (data_loss: 0.438, reg_loss: 0.000), lr: 0.0009057971014492753\n",
      "step: 200, acc: 0.836, loss: 0.472 (data_loss: 0.472, reg_loss: 0.000), lr: 0.0008976660682226211\n",
      "step: 234, acc: 0.885, loss: 0.344 (data_loss: 0.344, reg_loss: 0.000), lr: 0.0008949346697691068\n",
      "training, acc: 0.849, loss: 0.415 (data_loss: 0.415, reg_loss: 0.000), lr: 0.0008949346697691068\n",
      "validation, acc: 0.853, loss: 0.414\n",
      "epoch: 6\n",
      "step: 0, acc: 0.852, loss: 0.379 (data_loss: 0.379, reg_loss: 0.000), lr: 0.000894854586129754\n",
      "step: 100, acc: 0.836, loss: 0.399 (data_loss: 0.399, reg_loss: 0.000), lr: 0.0008869179600886919\n",
      "step: 200, acc: 0.848, loss: 0.453 (data_loss: 0.453, reg_loss: 0.000), lr: 0.0008791208791208791\n",
      "step: 234, acc: 0.854, loss: 0.329 (data_loss: 0.329, reg_loss: 0.000), lr: 0.0008765010079761591\n",
      "training, acc: 0.858, loss: 0.393 (data_loss: 0.393, reg_loss: 0.000), lr: 0.0008765010079761591\n",
      "validation, acc: 0.856, loss: 0.400\n",
      "epoch: 7\n",
      "step: 0, acc: 0.859, loss: 0.358 (data_loss: 0.358, reg_loss: 0.000), lr: 0.0008764241893076249\n",
      "step: 100, acc: 0.879, loss: 0.378 (data_loss: 0.378, reg_loss: 0.000), lr: 0.0008688097306689836\n",
      "step: 200, acc: 0.848, loss: 0.438 (data_loss: 0.438, reg_loss: 0.000), lr: 0.0008613264427217915\n",
      "step: 234, acc: 0.865, loss: 0.327 (data_loss: 0.327, reg_loss: 0.000), lr: 0.0008588114050154585\n",
      "training, acc: 0.865, loss: 0.377 (data_loss: 0.377, reg_loss: 0.000), lr: 0.0008588114050154585\n",
      "validation, acc: 0.863, loss: 0.388\n",
      "epoch: 8\n",
      "step: 0, acc: 0.895, loss: 0.327 (data_loss: 0.327, reg_loss: 0.000), lr: 0.0008587376556462\n",
      "step: 100, acc: 0.875, loss: 0.344 (data_loss: 0.344, reg_loss: 0.000), lr: 0.0008514261387824605\n",
      "step: 200, acc: 0.848, loss: 0.380 (data_loss: 0.380, reg_loss: 0.000), lr: 0.0008442380751371888\n",
      "step: 234, acc: 0.875, loss: 0.324 (data_loss: 0.324, reg_loss: 0.000), lr: 0.0008418217021634818\n",
      "training, acc: 0.870, loss: 0.362 (data_loss: 0.362, reg_loss: 0.000), lr: 0.0008418217021634818\n",
      "validation, acc: 0.862, loss: 0.381\n",
      "epoch: 9\n",
      "step: 0, acc: 0.871, loss: 0.342 (data_loss: 0.342, reg_loss: 0.000), lr: 0.0008417508417508418\n",
      "step: 100, acc: 0.871, loss: 0.353 (data_loss: 0.353, reg_loss: 0.000), lr: 0.0008347245409015025\n",
      "step: 200, acc: 0.855, loss: 0.374 (data_loss: 0.374, reg_loss: 0.000), lr: 0.0008278145695364238\n",
      "step: 234, acc: 0.885, loss: 0.294 (data_loss: 0.294, reg_loss: 0.000), lr: 0.0008254911672445105\n",
      "training, acc: 0.873, loss: 0.353 (data_loss: 0.353, reg_loss: 0.000), lr: 0.0008254911672445105\n",
      "validation, acc: 0.866, loss: 0.373\n",
      "epoch: 10\n",
      "step: 0, acc: 0.902, loss: 0.308 (data_loss: 0.308, reg_loss: 0.000), lr: 0.0008254230293025176\n",
      "step: 100, acc: 0.871, loss: 0.357 (data_loss: 0.357, reg_loss: 0.000), lr: 0.0008186655751125666\n",
      "step: 200, acc: 0.840, loss: 0.384 (data_loss: 0.384, reg_loss: 0.000), lr: 0.0008120178643930166\n",
      "step: 234, acc: 0.896, loss: 0.285 (data_loss: 0.285, reg_loss: 0.000), lr: 0.0008097821685966475\n",
      "training, acc: 0.876, loss: 0.341 (data_loss: 0.341, reg_loss: 0.000), lr: 0.0008097821685966475\n",
      "validation, acc: 0.869, loss: 0.368\n"
     ]
    }
   ],
   "source": [
    "model.train(X, y, validation_data=(X_test, y_test), epochs=10, batch_size=256, print_every=100)"
   ]
  },
  {
   "cell_type": "code",
   "execution_count": 18,
   "metadata": {},
   "outputs": [
    {
     "name": "stdout",
     "output_type": "stream",
     "text": [
      "validation, acc: 0.869, loss: 0.368\n"
     ]
    }
   ],
   "source": [
    "model.evaluate(X_test, y_test)"
   ]
  },
  {
   "attachments": {},
   "cell_type": "markdown",
   "metadata": {},
   "source": [
    "# Saving"
   ]
  },
  {
   "cell_type": "code",
   "execution_count": 15,
   "metadata": {},
   "outputs": [],
   "source": [
    "model.save_parameters('fashion_mnist.params')"
   ]
  },
  {
   "cell_type": "code",
   "execution_count": 16,
   "metadata": {},
   "outputs": [],
   "source": [
    "model.save('fashion_mnist.model')"
   ]
  },
  {
   "attachments": {},
   "cell_type": "markdown",
   "metadata": {},
   "source": [
    "# Loading"
   ]
  },
  {
   "cell_type": "code",
   "execution_count": 17,
   "metadata": {},
   "outputs": [],
   "source": [
    "new_model_with_loaded_params = nnn.module.Module()\n",
    "\n",
    "new_model_with_loaded_params.add(nnn.layer.Dense(X.shape[1], 64))\n",
    "new_model_with_loaded_params.add(nnn.layer.Dropout(0.1))\n",
    "new_model_with_loaded_params.add(nnn.activation.Relu())\n",
    "new_model_with_loaded_params.add(nnn.layer.Dense(64, 64))\n",
    "new_model_with_loaded_params.add(nnn.layer.Dropout(0.1))\n",
    "new_model_with_loaded_params.add(nnn.activation.Relu())\n",
    "new_model_with_loaded_params.add(nnn.layer.Dense(64, 10))\n",
    "new_model_with_loaded_params.add(nnn.activation.Softmax())\n",
    "\n",
    "new_model_with_loaded_params.set(\n",
    "    loss=nnn.loss.CategoricalCrossEntropy(),\n",
    "    accuracy=nnn.accuracy.Categorical()\n",
    ")\n",
    "\n",
    "new_model_with_loaded_params.finalise()"
   ]
  },
  {
   "cell_type": "code",
   "execution_count": 18,
   "metadata": {},
   "outputs": [],
   "source": [
    "new_model_with_loaded_params.load_parameters('fashion_mnist.params')"
   ]
  },
  {
   "cell_type": "code",
   "execution_count": 19,
   "metadata": {},
   "outputs": [
    {
     "name": "stdout",
     "output_type": "stream",
     "text": [
      "validation, acc: 0.869, loss: 0.368\n"
     ]
    }
   ],
   "source": [
    "new_model_with_loaded_params.evaluate(X_test, y_test)"
   ]
  },
  {
   "cell_type": "code",
   "execution_count": 20,
   "metadata": {},
   "outputs": [],
   "source": [
    "new_loaded_model = nnn.module.Module.load('fashion_mnist.model')"
   ]
  },
  {
   "cell_type": "code",
   "execution_count": 21,
   "metadata": {},
   "outputs": [
    {
     "name": "stdout",
     "output_type": "stream",
     "text": [
      "validation, acc: 0.869, loss: 0.368\n"
     ]
    }
   ],
   "source": [
    "new_loaded_model.evaluate(X_test, y_test)"
   ]
  },
  {
   "cell_type": "code",
   "execution_count": null,
   "metadata": {},
   "outputs": [],
   "source": []
  }
 ],
 "metadata": {
  "kernelspec": {
   "display_name": ".venv",
   "language": "python",
   "name": "python3"
  },
  "language_info": {
   "codemirror_mode": {
    "name": "ipython",
    "version": 3
   },
   "file_extension": ".py",
   "mimetype": "text/x-python",
   "name": "python",
   "nbconvert_exporter": "python",
   "pygments_lexer": "ipython3",
   "version": "3.7.16"
  },
  "orig_nbformat": 4,
  "vscode": {
   "interpreter": {
    "hash": "d485a98a36d7387b9a90aa3c793ce7a86a2239fa29b78a2ccbe0584c0791300d"
   }
  }
 },
 "nbformat": 4,
 "nbformat_minor": 2
}
